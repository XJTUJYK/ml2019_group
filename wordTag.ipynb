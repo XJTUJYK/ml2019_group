{
 "cells": [
  {
   "cell_type": "code",
   "execution_count": 66,
   "metadata": {},
   "outputs": [],
   "source": [
    "import numpy as np\n",
    "import time\n",
    "\n",
    "\n",
    "class HMM():    \n",
    "    '''\n",
    "    HMM有三个参数，pi代表隐藏状态的先验概率，A代表隐藏状态转移概率矩阵，B为一个混淆矩阵又称发射矩阵，代表从给定隐藏状态下可观测状态的概率矩阵\n",
    "    首先解决给定数据集训练这三个参数的问题，brown数据集都给定了标签，实现有监督学习即可，较为简单\n",
    "    '''\n",
    "\n",
    "    def __init__(self,args):\n",
    "        '''\n",
    "        接收一个元组的列表，每个元组有两个元素，第一个为可观测状态数据，第二个为隐藏状态数据\n",
    "        pi的key为隐藏状态，value为先验概率\n",
    "        '''\n",
    "        self.start_time=time.time()\n",
    "        self.data=args\n",
    "\n",
    "        self.ob_para_list=[tuple[0] for tuple in self.data]\n",
    "        self.ob_para=list(set(self.ob_para_list))\n",
    "\n",
    "        self.train()\n",
    "        #self.print_para()\n",
    "\n",
    "\n",
    "    def train(self):\n",
    "        '''\n",
    "        calculate A and B\n",
    "        '''\n",
    "        A, B, Pi = {}, {}, {}    # Use dict for faster index\n",
    "        for i,pair in enumerate(self.data[:-1]) :\n",
    "            if pair[1] in A.keys() :\n",
    "                if self.data[i+1][1] in A[pair[1]].keys() :\n",
    "                    A[pair[1]][self.data[i+1][1]] += 1\n",
    "                else :\n",
    "                    A[pair[1]][self.data[i+1][1]] = 1\n",
    "            else :\n",
    "                A[pair[1]] = {}\n",
    "                A[pair[1]][self.data[i-1][1]] = 1\n",
    "        if self.data[-1][1] not in A.keys() :\n",
    "            A[self.data[-1][1]] = {}\n",
    "        self.hidden_para = list(A.keys())\n",
    "        self.A = [ [ A[j].get(i, 0) for i in self.hidden_para ] for j in self.hidden_para ]\n",
    "        \n",
    "        for pair in self.data :\n",
    "            if pair[1] in B.keys() :\n",
    "                if pair[0] in B[pair[1]].keys() :\n",
    "                    B[pair[1]][pair[0]] += 1\n",
    "                else :\n",
    "                    B[pair[1]][pair[0]] = 1\n",
    "                # also update Pi\n",
    "                Pi[pair[1]] += 1\n",
    "            else :\n",
    "                B[pair[1]] = {}\n",
    "                B[pair[1]][pair[0]] = 1\n",
    "                Pi[pair[1]] = 1\n",
    "        self.B = [ [ B[j].get(i, 0) for i in self.ob_para ] for j in self.hidden_para ]\n",
    "        self.times = [ Pi[i] for i in self.hidden_para ]\n",
    "        \n",
    "        self.pi = [i/len(self.data) for i in self.times]\n",
    "        \n",
    "        self.hidden_len=len(self.hidden_para)\n",
    "        self.ob_len=len(self.ob_para)\n",
    "        print('Hidden states:'+str(self.hidden_len))\n",
    "        print('Observed states:'+str(self.ob_len))\n",
    "\n",
    "        self.A = [[ele/self.times[i] for ele in self.A[i]] for i in range(self.hidden_len)]\n",
    "        self.B = [[ele/self.times[i] for ele in self.B[i]] for i in range(self.hidden_len)]\n",
    "        \n",
    "        self.end_time=time.time()\n",
    "        print('Current program cost '+str(self.end_time-self.start_time)+'s')\n",
    "\n",
    "    def print_para(self):\n",
    "        self.print_pi()\n",
    "        self.print_A()\n",
    "        self.print_B()\n",
    "        print('Current program cost '+str(self.end_time-self.start_time)+'s')\n",
    "\n",
    "    def output_to_viterbi(self):\n",
    "        '''\n",
    "        返回HMM五元组\n",
    "        '''\n",
    "        return self.pi, self.A, self.B, self.hidden_para, self.ob_para"
   ]
  },
  {
   "cell_type": "code",
   "execution_count": 42,
   "metadata": {},
   "outputs": [],
   "source": [
    "def viterbi(Pi, A, B, hList, oList, stc) :\n",
    "    '''\n",
    "    the Viterbi algorithm\n",
    "    Viterbi use dp to find the best path (chain) of HMM hidden variables\n",
    "    '''\n",
    "    # Pi is the priori matrix, A the transition matrix, B the confuse matrix\n",
    "    # hList reveals all POS, while oList shows all observed words. stc the input sentence\n",
    "\n",
    "    # Substitude input sentence\n",
    "    try :\n",
    "        stcInd = [ oList.index(s) for s in stc ]\n",
    "    except ValueError :\n",
    "        print(\"Unprecedented word encountered! Please train more!\")\n",
    "        return None\n",
    "    # Confuse matrix B is H * O, where H is the number of hidden vars, i.e. number of POS\n",
    "    N, T = len(B), len(stc)\n",
    "    dp = [ [ 0 ] * N for i in range(T) ]\n",
    "    # Fill 1st row with Pi\n",
    "    for i in range(N) :\n",
    "        dp[0][i] = Pi[i] * B[i][stcInd[0]]\n",
    "    # Fill other rows by dp[t][i] = max([dp[t-1][j] for j in range(N)] * a[j][i] * b[i][o_t])\n",
    "    # O(TN^2)\n",
    "    for t in range(1,T) :\n",
    "        for i in range(N) :\n",
    "            dp[t][i] = max([ dp[t-1][j] * A[j][i] * B[i][stcInd[t]] for j in range(N) ])\n",
    "    # Retrace the path\n",
    "    pos = []\n",
    "    pos.append(dp[-1].index(max(dp[-1])))    # Could be multiple maxima. Choose the first one\n",
    "    for t in range(T-2, -1, -1) :\n",
    "        step = [ dp[t][j] * A[j][pos[-1]] * B[pos[-1]][stcInd[t+1]] for j in range(N) ]\n",
    "        pos.append(step.index(max(step)))\n",
    "    # Substitude hidden chain\n",
    "    pos = [ ( stc[i], hList[p] ) for i,p in enumerate(pos[::-1]) ]\n",
    "    \n",
    "    return pos"
   ]
  },
  {
   "cell_type": "code",
   "execution_count": 78,
   "metadata": {
    "scrolled": false
   },
   "outputs": [
    {
     "name": "stdout",
     "output_type": "stream",
     "text": [
      "Hidden states:12\n",
      "Observed states:46207\n",
      "Current program cost 3.5676281452178955s\n"
     ]
    }
   ],
   "source": [
    "from nltk.corpus import brown\n",
    "\n",
    "INPUT_SIZE = 1000000\n",
    "dataSet = brown.tagged_words(tagset='universal')[:INPUT_SIZE]\n",
    "dataSet = [ [d[0].lower(), d[1]] for d in dataSet ]\n",
    "hmm = HMM(dataSet)"
   ]
  },
  {
   "cell_type": "code",
   "execution_count": 149,
   "metadata": {},
   "outputs": [
    {
     "name": "stdout",
     "output_type": "stream",
     "text": [
      "Splitted & screened words:\n",
      " ['i', 'will', 'record', 'a', 'video', 'if', 'he', 'breaks', 'the', 'record', '.']\n",
      "Tagged:\n",
      " [('i', 'PRON'), ('will', 'VERB'), ('record', 'VERB'), ('a', 'DET'), ('video', 'NOUN'), ('if', 'ADP'), ('he', 'PRON'), ('breaks', 'VERB'), ('the', 'DET'), ('record', 'NOUN'), ('.', '.')]\n",
      "NLTK tagged:\n",
      " [('i', 'NOUN'), ('will', 'VERB'), ('record', 'VERB'), ('a', 'DET'), ('video', 'NOUN'), ('if', 'ADP'), ('he', 'PRON'), ('breaks', 'VERB'), ('the', 'DET'), ('record', 'NOUN'), ('.', '.')]\n"
     ]
    }
   ],
   "source": [
    "import nltk\n",
    "from nltk.corpus import stopwords\n",
    "\n",
    "sentence = 'I will record a video if he breaks the record.'\n",
    "\n",
    "words = nltk.word_tokenize(sentence)\n",
    "words = [ word.lower() for word in words ]\n",
    "\n",
    "# stops = set(stopwords.words(\"english\"))\n",
    "# words = [ word for word in words if word not in stops ]\n",
    "taggedWords = nltk.pos_tag(words, tagset='universal')\n",
    "\n",
    "print('Splitted & screened words:\\n', words)\n",
    "pos = viterbi(*hmm.output_to_viterbi(), words)\n",
    "print('Tagged:\\n', pos)\n",
    "print('NLTK tagged:\\n', taggedWords)"
   ]
  },
  {
   "cell_type": "code",
   "execution_count": 128,
   "metadata": {},
   "outputs": [],
   "source": [
    "import time\n",
    "\n",
    "def tagTrain(data) :\n",
    "    hmm = HMM(data)\n",
    "    paras = hmm.output_to_viterbi()\n",
    "    return paras, hmm.end_time-hmm.start_time\n",
    "\n",
    "def tagPredict(data, paras) :\n",
    "    stc = [d[0] for d in data]\n",
    "    tags = [d[1] for d in data]\n",
    "    # Deal with unseen words\n",
    "    oList = paras[4]\n",
    "    seenIdx = [i for i in range(len(stc)) if stc[i] in oList]\n",
    "    seenStc = [stc[i] for i in seenIdx]\n",
    "    # Predict\n",
    "    startTime = time.time()\n",
    "    pos = viterbi(*paras, seenStc)\n",
    "    endTime = time.time()\n",
    "    predictTags = [d[1] for d in pos]\n",
    "    # Compliment unseen words\n",
    "    predictTags = [predictTags[seenIdx.index(i)] if i in seenIdx else 'UNKNOWN' for i in range(len(stc))]\n",
    "    #print(predictTags, data)\n",
    "    # Correction rate\n",
    "    correctNum = sum([1 for tag,pre in zip(tags,predictTags) if tag == pre])\n",
    "    return pos, endTime - startTime, correctNum/len(tags)"
   ]
  },
  {
   "cell_type": "code",
   "execution_count": 145,
   "metadata": {},
   "outputs": [
    {
     "name": "stdout",
     "output_type": "stream",
     "text": [
      "Hidden states:12\n",
      "Observed states:8202\n",
      "Current program cost 0.10037446022033691s\n",
      "Hidden states:12\n",
      "Observed states:13082\n",
      "Current program cost 0.23454737663269043s\n",
      "Hidden states:12\n",
      "Observed states:16254\n",
      "Current program cost 0.34133338928222656s\n",
      "Hidden states:12\n",
      "Observed states:20231\n",
      "Current program cost 0.39045286178588867s\n",
      "Hidden states:12\n",
      "Observed states:22562\n",
      "Current program cost 0.6013193130493164s\n",
      "Hidden states:12\n",
      "Observed states:25366\n",
      "Current program cost 0.5516853332519531s\n",
      "Hidden states:12\n",
      "Observed states:27442\n",
      "Current program cost 0.6374242305755615s\n",
      "Hidden states:12\n",
      "Observed states:29482\n",
      "Current program cost 0.7406680583953857s\n",
      "Hidden states:12\n",
      "Observed states:31392\n",
      "Current program cost 0.8581607341766357s\n",
      "Hidden states:12\n",
      "Observed states:33120\n",
      "Current program cost 0.9707698822021484s\n",
      "Hidden states:12\n",
      "Observed states:34671\n",
      "Current program cost 1.083510160446167s\n",
      "Hidden states:12\n",
      "Observed states:36466\n",
      "Current program cost 1.116267442703247s\n",
      "Hidden states:12\n",
      "Observed states:37459\n",
      "Current program cost 1.199911117553711s\n",
      "Hidden states:12\n",
      "Observed states:38812\n",
      "Current program cost 1.318584680557251s\n",
      "Hidden states:12\n",
      "Observed states:40207\n",
      "Current program cost 1.3676676750183105s\n",
      "Hidden states:12\n",
      "Observed states:41146\n",
      "Current program cost 1.4338243007659912s\n",
      "Hidden states:12\n",
      "Observed states:42655\n",
      "Current program cost 1.5822877883911133s\n",
      "Hidden states:12\n",
      "Observed states:44078\n",
      "Current program cost 1.7143580913543701s\n",
      "Hidden states:12\n",
      "Observed states:45192\n",
      "Current program cost 1.7080378532409668s\n",
      "Hidden states:12\n",
      "Observed states:46207\n",
      "Current program cost 1.8899309635162354s\n"
     ]
    }
   ],
   "source": [
    "# How performance changes along increasing of dataset\n",
    "\n",
    "import nltk\n",
    "from nltk.corpus import brown\n",
    "import numpy as np\n",
    "\n",
    "def performance(inputSize) :\n",
    "    INPUT_SIZE = inputSize\n",
    "    TEST_SIZE = 1000\n",
    "    CHUCK_SIZE = 100\n",
    "\n",
    "    dataSet = brown.tagged_words(tagset='universal')[:1000000+TEST_SIZE]\n",
    "    dataSet = [ [d[0].lower(), d[1]] for d in dataSet ]\n",
    "    trainSet, testSet = dataSet[:INPUT_SIZE], dataSet[1000000:1000000+TEST_SIZE]\n",
    "\n",
    "    paras, trainTime = tagTrain(trainSet)\n",
    "    times, corrects = [], []\n",
    "    for i in range(TEST_SIZE//CHUCK_SIZE) :\n",
    "        pos, predictTime, correct = tagPredict(testSet[i*CHUCK_SIZE:(i+1)*CHUCK_SIZE], paras)\n",
    "        times.append(predictTime)\n",
    "        corrects.append(correct)\n",
    "    return trainTime, sum(times), np.mean(corrects)\n",
    "\n",
    "perfs = []\n",
    "for inputSize in range(5,101,5) :\n",
    "    perf = performance(inputSize * 10000)\n",
    "    perfs.append(perf)"
   ]
  },
  {
   "cell_type": "code",
   "execution_count": 146,
   "metadata": {},
   "outputs": [
    {
     "data": {
      "text/plain": [
       "Text(0,0.5,'Accuracy')"
      ]
     },
     "execution_count": 146,
     "metadata": {},
     "output_type": "execute_result"
    },
    {
     "data": {
      "image/png": "[encoded data removed]",
      "text/plain": [
       "<Figure size 576x432 with 1 Axes>"
      ]
     },
     "metadata": {
      "needs_background": "light"
     },
     "output_type": "display_data"
    },
    {
     "data": {
      "image/png": "[encoded data removed]",
      "text/plain": [
       "<Figure size 576x432 with 1 Axes>"
      ]
     },
     "metadata": {
      "needs_background": "light"
     },
     "output_type": "display_data"
    }
   ],
   "source": [
    "%matplotlib inline\n",
    "from matplotlib import pyplot as plt\n",
    "plt.figure(figsize=(8,6))\n",
    "for i in range(2) :\n",
    "    plt.plot(range(5,101,5), [p[i] for p in perfs])\n",
    "plt.legend(labels=['Training time', 'Predicting time'])\n",
    "plt.xlabel('Training set size / 10^4')\n",
    "plt.ylabel('Time / s')\n",
    "\n",
    "plt.figure(figsize=(8,6))\n",
    "plt.plot(range(5,101,5), [p[2] for p in perfs], marker='o')\n",
    "plt.xlabel('Training set size / 10^4')\n",
    "plt.ylabel('Accuracy')"
   ]
  }
 ],
 "metadata": {
  "kernelspec": {
   "display_name": "Python 3",
   "language": "python",
   "name": "python3"
  },
  "language_info": {
   "codemirror_mode": {
    "name": "ipython",
    "version": 3
   },
   "file_extension": ".py",
   "mimetype": "text/x-python",
   "name": "python",
   "nbconvert_exporter": "python",
   "pygments_lexer": "ipython3",
   "version": "3.6.6"
  }
 },
 "nbformat": 4,
 "nbformat_minor": 2
}
